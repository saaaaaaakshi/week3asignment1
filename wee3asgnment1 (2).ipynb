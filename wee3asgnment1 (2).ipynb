{
 "cells": [
  {
   "cell_type": "code",
   "execution_count": 6,
   "id": "f432db6a-1c0c-4b85-91aa-ff7d145e91ce",
   "metadata": {},
   "outputs": [
    {
     "data": {
      "text/plain": [
       "[1, 3, 5, 7, 9, 11, 13, 15, 17, 19, 21, 23]"
      ]
     },
     "execution_count": 6,
     "metadata": {},
     "output_type": "execute_result"
    }
   ],
   "source": [
    "#ans1\n",
    "\"\"\"def keyword is used to create a function\"\"\"\n",
    "l=range(25)\n",
    "def odd_num(l):\n",
    "    l1=[]\n",
    "    for i in l:\n",
    "        if i%2!=0:\n",
    "            l1.append(i)\n",
    "\n",
    "    return l1\n",
    "odd_num(l)"
   ]
  },
  {
   "cell_type": "code",
   "execution_count": 7,
   "id": "3f468040-ebc7-4baf-b45d-b42d931d1ad1",
   "metadata": {},
   "outputs": [],
   "source": [
    "#ans 2\n",
    "'''we use *args and *kwargs in function when we don't know the \n",
    "   exact no. of arguments to pass in function'''\n",
    "def test1(*args):\n",
    "    return args"
   ]
  },
  {
   "cell_type": "code",
   "execution_count": 8,
   "id": "0bf58c92-ce77-466e-a138-9b7a16b833ec",
   "metadata": {},
   "outputs": [
    {
     "data": {
      "text/plain": [
       "(4, 'sak', (7+9j), True)"
      ]
     },
     "execution_count": 8,
     "metadata": {},
     "output_type": "execute_result"
    }
   ],
   "source": [
    "test1(4,\"sak\",7+9j,True)\n",
    "#here we can pass any no. of arguments in function\n",
    "#*args convert the parameters and store in a tuple"
   ]
  },
  {
   "cell_type": "code",
   "execution_count": 9,
   "id": "c930a5f0-65b1-49de-bce8-6af59dcd0f62",
   "metadata": {},
   "outputs": [],
   "source": [
    "def test2(**kwargs):\n",
    "    return kwargs"
   ]
  },
  {
   "cell_type": "code",
   "execution_count": 10,
   "id": "5803add5-5d0e-4cd2-8fe8-29c4770af77d",
   "metadata": {},
   "outputs": [
    {
     "data": {
      "text/plain": [
       "{'a': 89, 'b': [1, False, (8+6j)], 'c': True}"
      ]
     },
     "execution_count": 10,
     "metadata": {},
     "output_type": "execute_result"
    }
   ],
   "source": [
    "test2(a=89,b=[1,False,8+6j],c=True)\n",
    "#it is used to store the data in key value pair"
   ]
  },
  {
   "cell_type": "code",
   "execution_count": 11,
   "id": "b223906f-4d4f-4a57-8f59-9607702c08ec",
   "metadata": {},
   "outputs": [
    {
     "data": {
      "text/plain": [
       "'Iter() method is used to initialize the iterator object and next() method used for iteration '"
      ]
     },
     "execution_count": 11,
     "metadata": {},
     "output_type": "execute_result"
    }
   ],
   "source": [
    "#ans3\n",
    "\"\"\"In Python, an iterator is an object that allows you to iterate over collections of data, \n",
    "such as lists, tuples, dictionaries, and sets.\"\"\"\n",
    "\n",
    "\"\"\"Iter() method is used to initialize the iterator object and next() method used for iteration \"\"\""
   ]
  },
  {
   "cell_type": "code",
   "execution_count": 12,
   "id": "9888b2f5-e363-4c78-9394-37d66c9d1d0b",
   "metadata": {},
   "outputs": [
    {
     "name": "stdout",
     "output_type": "stream",
     "text": [
      "2\n",
      "4\n",
      "6\n",
      "8\n",
      "10\n"
     ]
    }
   ],
   "source": [
    "l=[2,4,6,8,10,12,14,16,18,20]\n",
    "iterator=iter(l)\n",
    "for i in range(5):\n",
    "    print(next(iterator))\n",
    "       "
   ]
  },
  {
   "cell_type": "code",
   "execution_count": 13,
   "id": "4846a2cc-d024-451e-a871-4df8c76a2505",
   "metadata": {},
   "outputs": [
    {
     "data": {
      "text/plain": [
       "'yield keyword is used to create a generator function. \\nA type of function that is memory efficient and can be used like an iterator object'"
      ]
     },
     "execution_count": 13,
     "metadata": {},
     "output_type": "execute_result"
    }
   ],
   "source": [
    "#ans4\n",
    "'''A generator-function is defined like a normal function, but whenever it needs to generate a value,\n",
    "it does so with the yield keyword rather than return.'''\n",
    "'''yield keyword is used to create a generator function. \n",
    "A type of function that is memory efficient and can be used like an iterator object'''\n"
   ]
  },
  {
   "cell_type": "code",
   "execution_count": 14,
   "id": "3dd94377-1cf5-472e-ba3b-ac87b6899ab7",
   "metadata": {},
   "outputs": [],
   "source": [
    "def fact(n):\n",
    "    a,b=1,1\n",
    "    if n>0:\n",
    "        while b<=n:\n",
    "            a=a*b\n",
    "            b+=1\n",
    "    elif n==0:\n",
    "        a=1\n",
    "    elif n==1:\n",
    "        a=1\n",
    "    else:\n",
    "        print(\"enter valid input\")\n",
    "    yield a\n",
    "    "
   ]
  },
  {
   "cell_type": "code",
   "execution_count": 15,
   "id": "e5ae22d4-cdb5-497a-b75a-38d3b5cb7779",
   "metadata": {},
   "outputs": [],
   "source": [
    "f=fact(5)"
   ]
  },
  {
   "cell_type": "code",
   "execution_count": 16,
   "id": "849743f7-d211-41a5-aca1-6e1f58fb1210",
   "metadata": {},
   "outputs": [
    {
     "name": "stdout",
     "output_type": "stream",
     "text": [
      "120\n"
     ]
    }
   ],
   "source": [
    "print(next(f))"
   ]
  },
  {
   "cell_type": "code",
   "execution_count": 17,
   "id": "c366d1ed-39ac-49a4-9288-491e07a8c44d",
   "metadata": {},
   "outputs": [],
   "source": [
    "#ans 5\n",
    "def is_prime(n):\n",
    "    if n<2:\n",
    "        return False\n",
    "    for i in range(2,int(n**0.5)+1):\n",
    "        if n%i==0:\n",
    "            return False\n",
    "        else:\n",
    "            i+=1\n",
    "    return True\n"
   ]
  },
  {
   "cell_type": "code",
   "execution_count": 18,
   "id": "16690f7b-ae22-4593-b70f-0659e954d86c",
   "metadata": {},
   "outputs": [],
   "source": [
    "def is_prime_gen(limit):\n",
    "    i=2\n",
    "    while i<limit:\n",
    "        if is_prime(i):\n",
    "            yield i\n",
    "            i+=1\n",
    "        else:\n",
    "            i+=1\n",
    "            continue"
   ]
  },
  {
   "cell_type": "code",
   "execution_count": 19,
   "id": "e013c3e8-0b4f-4e3e-b840-cef445da0d7c",
   "metadata": {},
   "outputs": [],
   "source": [
    "prime_gen=is_prime_gen(1000)"
   ]
  },
  {
   "cell_type": "code",
   "execution_count": 20,
   "id": "fb9db5b6-0113-4a47-a298-2d5d3143f0d6",
   "metadata": {},
   "outputs": [
    {
     "name": "stdout",
     "output_type": "stream",
     "text": [
      "2\n",
      "3\n",
      "5\n",
      "7\n",
      "11\n",
      "13\n",
      "17\n",
      "19\n",
      "23\n",
      "29\n",
      "31\n",
      "37\n",
      "41\n",
      "43\n",
      "47\n",
      "53\n",
      "59\n",
      "61\n",
      "67\n",
      "71\n"
     ]
    }
   ],
   "source": [
    "for j in range(20):\n",
    "    print(next(prime_gen))"
   ]
  },
  {
   "cell_type": "code",
   "execution_count": 21,
   "id": "c1128747-be9b-44e8-96e4-266a4fd0ae25",
   "metadata": {},
   "outputs": [
    {
     "name": "stdout",
     "output_type": "stream",
     "text": [
      "0\n",
      "1\n",
      "1\n",
      "2\n",
      "3\n",
      "5\n",
      "8\n",
      "13\n",
      "21\n",
      "34\n"
     ]
    }
   ],
   "source": [
    "#ans6\n",
    "a,b=0,1\n",
    "count=1\n",
    "while count<=10:\n",
    "    count+=1\n",
    "    print(a)\n",
    "    a,b=b,a+b\n",
    "    "
   ]
  },
  {
   "cell_type": "code",
   "execution_count": 22,
   "id": "3824b11f-1667-4877-b355-6383766ffd13",
   "metadata": {},
   "outputs": [
    {
     "name": "stdout",
     "output_type": "stream",
     "text": [
      "['p', 'w', 's', 'k', 'i', 'l', 'l', 's']\n"
     ]
    }
   ],
   "source": [
    "#ans7\n",
    "s=\"pwskills\"\n",
    "list=[i for i in s]\n",
    "print(list)"
   ]
  },
  {
   "cell_type": "code",
   "execution_count": 23,
   "id": "05fe4c95-6d42-4171-968d-342aae6a0708",
   "metadata": {},
   "outputs": [
    {
     "name": "stdin",
     "output_type": "stream",
     "text": [
      "enter a number 202\n"
     ]
    },
    {
     "name": "stdout",
     "output_type": "stream",
     "text": [
      "num is palindrome\n"
     ]
    }
   ],
   "source": [
    "#ans 8\n",
    "n=int(input(\"enter a number\"))\n",
    "temp=n\n",
    "rev=0\n",
    "while n>0:\n",
    "    digit=n%10\n",
    "    rev=rev*10+digit\n",
    "    n//=10\n",
    "if rev==temp:\n",
    "    print(\"num is palindrome\")\n",
    "else:\n",
    "    print(\"not palindrome number\")"
   ]
  },
  {
   "cell_type": "code",
   "execution_count": 24,
   "id": "26f9183d-f2be-48e2-b015-aec4e1b4cf76",
   "metadata": {},
   "outputs": [
    {
     "name": "stdout",
     "output_type": "stream",
     "text": [
      "[1, 3, 5, 7, 9, 11, 13, 15, 17, 19, 21, 23, 25, 27, 29, 31, 33, 35, 37, 39, 41, 43, 45, 47, 49, 51, 53, 55, 57, 59, 61, 63, 65, 67, 69, 71, 73, 75, 77, 79, 81, 83, 85, 87, 89, 91, 93, 95, 97, 99]\n"
     ]
    }
   ],
   "source": [
    "#ans 9\n",
    "list_odd=[i for i in range(1,101) if i%2==1]\n",
    "print(list_odd)"
   ]
  }
 ],
 "metadata": {
  "kernelspec": {
   "display_name": "Python 3 (ipykernel)",
   "language": "python",
   "name": "python3"
  },
  "language_info": {
   "codemirror_mode": {
    "name": "ipython",
    "version": 3
   },
   "file_extension": ".py",
   "mimetype": "text/x-python",
   "name": "python",
   "nbconvert_exporter": "python",
   "pygments_lexer": "ipython3",
   "version": "3.10.8"
  }
 },
 "nbformat": 4,
 "nbformat_minor": 5
}
